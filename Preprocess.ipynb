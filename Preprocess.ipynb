{
 "cells": [
  {
   "cell_type": "code",
   "execution_count": 1,
   "metadata": {},
   "outputs": [],
   "source": [
    "from bs4 import BeautifulSoup\n",
    "import json"
   ]
  },
  {
   "cell_type": "code",
   "execution_count": 2,
   "metadata": {},
   "outputs": [],
   "source": [
    "def get_followers(file):\n",
    "    soup = BeautifulSoup(open(file), \"html.parser\")\n",
    "    followers_name = soup.findAll('a', attrs={'class': 'fullname'})\n",
    "    followers_username = soup.findAll('b', attrs={'class': 'u-linkComplex-target'})\n",
    "    followers_image = soup.findAll('img', attrs={'class': 'ProfileCard-avatarImage'})\n",
    "    followers = {}\n",
    "\n",
    "    for i in range(len(followers_name)):\n",
    "        followers[followers_username[i].text.strip()] = {}\n",
    "        followers[followers_username[i].text.strip()]['name'] = followers_name[i].text.strip()\n",
    "        followers[followers_username[i].text.strip()]['image'] = followers_image[i]['src']\n",
    "\n",
    "    return followers \n",
    "\n",
    "def followers_to_graph(followers, file):\n",
    "    out = ''\n",
    "    for item in followers:\n",
    "        out += ('{ \\\"name\\\": \\\"' + item + '\\\", \\\"image\\\": \\\"' + followers[item]['image'] +'\\\" },\\n')\n",
    "    \n",
    "    text_file = open(file, \"w\")\n",
    "    text_file.write(out)\n",
    "    text_file.close()\n",
    "    \n",
    "def links(followers, following, file):\n",
    "    links = ''\n",
    "    count = 1\n",
    "    for i in followers:\n",
    "        if i in following:\n",
    "            links += '{ \\\"source\\\": 0, \\\"target\\\":' + str(count) + ', \\\"weight\\\": 10 },\\n'\n",
    "        else:\n",
    "            links += '{ \\\"source\\\": 0, \\\"target\\\":' + str(count) + ', \\\"weight\\\": 1 },\\n'\n",
    "        count += 1\n",
    "    text_file = open(file, \"w\")\n",
    "    text_file.write(links)\n",
    "    text_file.close()\n",
    "    \n",
    "    \n",
    "def two_links(followers_one, following_one, followers_two, following_two, file):\n",
    "    links = ''\n",
    "    count = 2\n",
    "    for i in followers_one:\n",
    "        if i in following_one:\n",
    "            links += '{ \\\"source\\\": 0, \\\"target\\\":' + str(count) + ', \\\"weight\\\": 10 },\\n'\n",
    "        else:\n",
    "            links += '{ \\\"source\\\": 0, \\\"target\\\":' + str(count) + ', \\\"weight\\\": 1 },\\n'\n",
    "            \n",
    "        if i in followers_two:\n",
    "            if i in following_two:\n",
    "                links += '{ \\\"source\\\": 1, \\\"target\\\":' + str(count) + ', \\\"weight\\\": 10 },\\n'\n",
    "            else:\n",
    "                links += '{ \\\"source\\\": 1, \\\"target\\\":' + str(count) + ', \\\"weight\\\": 1 },\\n'\n",
    "        count += 1\n",
    "    text_file = open(file, \"w\")\n",
    "    text_file.write(links)\n",
    "    text_file.close()\n",
    "    \n",
    "def more_links(followers_one, following_one, followers_two, following_two, other_followers, other_following, file):\n",
    "    links = ''\n",
    "    count = 3\n",
    "    for i in followers_one:\n",
    "        if i in following_one:\n",
    "            links += '{ \\\"source\\\": 0, \\\"target\\\":' + str(count) + ', \\\"weight\\\": 10 },\\n'\n",
    "        else:\n",
    "            links += '{ \\\"source\\\": 0, \\\"target\\\":' + str(count) + ', \\\"weight\\\": 1 },\\n'\n",
    "            \n",
    "        if i in followers_two:\n",
    "            if i in following_two:\n",
    "                links += '{ \\\"source\\\": 1, \\\"target\\\":' + str(count) + ', \\\"weight\\\": 10 },\\n'\n",
    "            else:\n",
    "                links += '{ \\\"source\\\": 1, \\\"target\\\":' + str(count) + ', \\\"weight\\\": 1 },\\n'\n",
    "                \n",
    "        if i in other_followers:\n",
    "            if i in other_following:\n",
    "                links += '{ \\\"source\\\": 2, \\\"target\\\":' + str(count) + ', \\\"weight\\\": 10 },\\n'\n",
    "            else:\n",
    "                links += '{ \\\"source\\\": 2, \\\"target\\\":' + str(count) + ', \\\"weight\\\": 1 },\\n'\n",
    "        count += 1\n",
    "    text_file = open(file, \"w\")\n",
    "    text_file.write(links)\n",
    "    text_file.close()"
   ]
  },
  {
   "cell_type": "code",
   "execution_count": 3,
   "metadata": {},
   "outputs": [],
   "source": [
    "vega = get_followers(\"./data_html/vega_followers.html\")\n",
    "followers_to_graph(vega, 'vega_followers.txt')\n",
    "\n",
    "alejo = get_followers(\"./data_html/rendon_followers.html\")\n",
    "followers_to_graph(alejo, 'rendon_followers.txt')\n",
    "\n",
    "leiver = get_followers(\"./data_html/leiver_followers.html\")\n",
    "followers_to_graph(leiver, 'leiver_followers.txt')"
   ]
  },
  {
   "cell_type": "code",
   "execution_count": 4,
   "metadata": {},
   "outputs": [],
   "source": [
    "alejo_following = get_followers(\"./data_html/rendon_following.html\")\n",
    "followers_to_graph(alejo_following, 'rendon_following.txt')\n",
    "\n",
    "vega_following = get_followers(\"./data_html/vega_following.html\")\n",
    "followers_to_graph(vega_following, 'vega_following.txt')\n",
    "\n",
    "leiver_following = get_followers(\"./data_html/leiver_following.html\")\n",
    "followers_to_graph(leiver_following, 'leiver_following.txt')"
   ]
  },
  {
   "cell_type": "code",
   "execution_count": 5,
   "metadata": {},
   "outputs": [],
   "source": [
    "links(alejo, alejo_following, 'links_rendon.txt')\n",
    "links(vega, vega_following, 'links_vega.txt')\n",
    "links(leiver, leiver_following, 'links_leiver.txt')"
   ]
  },
  {
   "cell_type": "code",
   "execution_count": 6,
   "metadata": {},
   "outputs": [],
   "source": [
    "two_links(alejo, alejo_following, vega, vega_following, 'links_rendon_vega.txt')\n",
    "two_links(alejo, alejo_following, leiver, leiver_following, 'links_rendon_leiver.txt')"
   ]
  },
  {
   "cell_type": "code",
   "execution_count": 7,
   "metadata": {},
   "outputs": [],
   "source": [
    "more_links(alejo, alejo_following, vega, vega_following, leiver, leiver_following, 'links_rendon_leiver_vega.txt')"
   ]
  }
 ],
 "metadata": {
  "kernelspec": {
   "display_name": "Python 3",
   "language": "python",
   "name": "python3"
  },
  "language_info": {
   "codemirror_mode": {
    "name": "ipython",
    "version": 3
   },
   "file_extension": ".py",
   "mimetype": "text/x-python",
   "name": "python",
   "nbconvert_exporter": "python",
   "pygments_lexer": "ipython3",
   "version": "3.6.5"
  }
 },
 "nbformat": 4,
 "nbformat_minor": 2
}
